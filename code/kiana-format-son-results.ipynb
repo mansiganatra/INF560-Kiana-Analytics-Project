{
 "cells": [
  {
   "cell_type": "code",
   "execution_count": null,
   "metadata": {},
   "outputs": [],
   "source": [
    "from pyspark import SparkContext, StorageLevel\n",
    "from pyspark.sql import SQLContext, functions\n",
    "import sys\n",
    "import json\n",
    "import csv\n",
    "import itertools\n",
    "from time import time\n",
    "import math\n",
    "import pandas as pd"
   ]
  },
  {
   "cell_type": "code",
   "execution_count": null,
   "metadata": {},
   "outputs": [],
   "source": [
    "def process(entry):\n",
    "    revisedEntries= entry[0].replace('\\'', '').split(',')\n",
    "    return (revisedEntries[1], str(revisedEntries[0]), str(revisedEntries[2]),str(revisedEntries[3]), str(revisedEntries[5]))"
   ]
  },
  {
   "cell_type": "code",
   "execution_count": null,
   "metadata": {},
   "outputs": [],
   "source": [
    "SparkContext.setSystemProperty('spark.executor.memory', '8g')\n",
    "SparkContext.setSystemProperty('spark.driver.memory', '8g')\n",
    "SparkContext.setSystemProperty('spark.driver.maxResultSize','1g')\n",
    "sc = SparkContext('local[*]', 'task1')\n",
    "sqlContext = SQLContext(sc)"
   ]
  },
  {
   "cell_type": "code",
   "execution_count": null,
   "metadata": {},
   "outputs": [],
   "source": [
    "# The following pararmeters are configurable and can be changed as per the business requirements\n",
    "input_file_path = \".\\preometheus-sample.csv\"\n",
    "son_results_path = \".\\kiana-match-results.txt\"\n",
    "output_file_path = \".\\kiana-matched-records.csv\"\n",
    "mapid_map_path = \".\\macid-map-john.txt\""
   ]
  },
  {
   "cell_type": "code",
   "execution_count": null,
   "metadata": {},
   "outputs": [],
   "source": [
    "global_macid_dict = {}\n",
    "global_macid_revers_dict = {}\n",
    "\n",
    "with open(mapid_map_path, \"r\") as fp:\n",
    "    global_macid_dict = json.load(fp)\n",
    "\n",
    "for key, val in global_macid_dict.items():\n",
    "    global_macid_revers_dict[val] = key"
   ]
  },
  {
   "cell_type": "code",
   "execution_count": null,
   "metadata": {},
   "outputs": [],
   "source": [
    "df = sqlContext.read.csv(input_file_path, header=True)\n",
    "\n",
    "matched_id_list =[]\n",
    "with open(son_results_path, 'r') as f:\n",
    "    reader = csv.reader(f)\n",
    "    matched_id_list = list(reader)\n",
    "\n",
    "matched_id_set = set([item for sublist in matched_id_list for item in sublist])"
   ]
  },
  {
   "cell_type": "code",
   "execution_count": null,
   "metadata": {},
   "outputs": [],
   "source": [
    "finalRdd = df.rdd\n",
    "finalRdd = finalRdd\\\n",
    "    .filter(lambda entry: global_macid_revers_dict[int(entry[\"MacId\"])] in matched_id_set)\n",
    "\n",
    "results = finalRdd.toDF().toPandas()\n",
    "results['MacId'] = pd.to_numeric(results.MacId, errors='coerce')\n",
    "results = results.replace({'MacId': global_macid_revers_dict})\n",
    "\n",
    "results.to_csv(output_file_path, index=False)"
   ]
  }
 ],
 "metadata": {
  "kernelspec": {
   "display_name": "Python 3",
   "language": "python",
   "name": "python3"
  },
  "language_info": {
   "codemirror_mode": {
    "name": "ipython",
    "version": 3
   },
   "file_extension": ".py",
   "mimetype": "text/x-python",
   "name": "python",
   "nbconvert_exporter": "python",
   "pygments_lexer": "ipython3",
   "version": "3.6.8"
  }
 },
 "nbformat": 4,
 "nbformat_minor": 2
}
