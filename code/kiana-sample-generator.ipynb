{
 "cells": [
  {
   "cell_type": "markdown",
   "metadata": {},
   "source": [
    "# DESCRITPTION:\n",
    "The following code contains the implementation to generate a sample from the entire dataset. Currentlyy, we have chosen the "
   ]
  },
  {
   "cell_type": "code",
   "execution_count": null,
   "metadata": {},
   "outputs": [],
   "source": [
    "import pandas as pd\n",
    "import numpy as np\n",
    "import re\n",
    "import json\n",
    "from time import time"
   ]
  },
  {
   "cell_type": "code",
   "execution_count": null,
   "metadata": {},
   "outputs": [],
   "source": [
    "def convertDate(date):\n",
    "    date = str(date)\n",
    "    date = re.sub(pattern='[.]\\d* ', repl=' ', string=date)\n",
    "    new_date = pd.to_datetime(date, infer_datetime_format=True, utc=True).timestamp()\n",
    "    # format = \"%Y-%m-%d %H-%M-%S %Z\"\n",
    "\n",
    "    return new_date"
   ]
  },
  {
   "cell_type": "code",
   "execution_count": null,
   "metadata": {},
   "outputs": [],
   "source": [
    "def convertLevel(level):\n",
    "    if level == \"Level 1\" or \"Level1\":\n",
    "        return 1\n",
    "    elif level == \"Level 5\" or \"Level5\":\n",
    "        return 1\n",
    "    elif level == \"Level B1\" or \"LevelB1\":\n",
    "        return 0\n",
    "    else:\n",
    "        return level"
   ]
  },
  {
   "cell_type": "code",
   "execution_count": null,
   "metadata": {},
   "outputs": [],
   "source": [
    "def splitTime(dates):\n",
    "    new_dates = []\n",
    "    new_times = []\n",
    "    new_timestamps = []\n",
    "\n",
    "    for date in dates:\n",
    "        new_value = pd.to_datetime(date, infer_datetime_format=True, utc=True)\n",
    "        new_dates.append(new_value.date())\n",
    "        new_times.append(new_value.time())\n",
    "        new_timestamps.append(new_value.timestamp())\n",
    "\n",
    "    new_df = pd.DataFrame({'date': new_dates,\n",
    "                           'time': new_times,\n",
    "                           'tmstmp': new_timestamps,\n",
    "                           'localtime': dates})\n",
    "\n",
    "    return new_df"
   ]
  },
  {
   "cell_type": "code",
   "execution_count": null,
   "metadata": {},
   "outputs": [],
   "source": [
    "def process_chunk(df):\n",
    "\n",
    "    # filter for current date\n",
    "    df = df.loc[df['localtime'].str.contains('2018-06-09')]\n",
    "    df = pd.concat([df, splitTime(df['localtime'])], axis=1)\n",
    "    df = df.drop(columns=['localtime'], axis=1)\n",
    "    df['time'] = df.loc[df['time'].str.split(\":\", expand=True)]\n",
    "\n",
    "    if len(global_macid_dict.keys()) > 0:\n",
    "        unique_macids = set(df.ClientMacAddr.unique()).difference(set(global_macid_dict.keys()))\n",
    "    else:\n",
    "        unique_macids = set(df.ClientMacAddr.unique())\n",
    "\n",
    "    start = max(global_macid_revers_dict.keys(), default=0)\n",
    "\n",
    "    for index, value in enumerate(unique_macids, start=start+1):\n",
    "        global_macid_dict[value] = index\n",
    "        global_macid_revers_dict[index] = value\n",
    "\n",
    "    df['ClientMacAddr'] = df['ClientMacAddr'].map(global_macid_dict)\n",
    "    df.to_csv(output_file_path, mode='a', index=False)\n",
    "\n",
    "    with open(mapid_map_path\", \"a+\") as fp:\n",
    "        json.dump(global_macid_dict, fp, indent=4)\n",
    "        fp.close()"
   ]
  },
  {
   "cell_type": "code",
   "execution_count": null,
   "metadata": {},
   "outputs": [],
   "source": [
    "# The following pararmeters are configurable and can be changed as per the business requirements\n",
    "input_file_path = \".\\prometheus-whole.csv\"\n",
    "output_file_path = \".\\prometheus-one-day.csv\"\n",
    "mapid_map_path = \".\\macid-map.txt\""
   ]
  },
  {
   "cell_type": "code",
   "execution_count": null,
   "metadata": {},
   "outputs": [],
   "source": [
    "global_macid_dict = {}\n",
    "global_macid_revers_dict = {}\n",
    "\n",
    "cols = ['Level', 'ClientMacAddr', 'lat', 'lng', 'localtime']\n",
    "chunksize = 10**6\n",
    "\n",
    "for chunk in pd.read_csv(input_file_path,\n",
    "                         usecols=['Level', 'ClientMacAddr', 'lat', 'lng', 'localtime'],\n",
    "                         converters={'Level': convertLevel}, chunksize=chunksize):\n",
    "    process_chunk(chunk)\n",
    "\n",
    "print(\"Sample Generation Completed\")"
   ]
  }
 ],
 "metadata": {
  "celltoolbar": "Raw Cell Format",
  "kernelspec": {
   "display_name": "Python 3",
   "language": "python",
   "name": "python3"
  },
  "language_info": {
   "codemirror_mode": {
    "name": "ipython",
    "version": 3
   },
   "file_extension": ".py",
   "mimetype": "text/x-python",
   "name": "python",
   "nbconvert_exporter": "python",
   "pygments_lexer": "ipython3",
   "version": "3.6.8"
  }
 },
 "nbformat": 4,
 "nbformat_minor": 2
}
